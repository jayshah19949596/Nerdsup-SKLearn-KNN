{
 "cells": [
  {
   "cell_type": "markdown",
   "metadata": {},
   "source": [
    "# Nearest Neighbor Classifierwith SKLEARN\n",
    "------------\n",
    "\n",
    "\n",
    "## Pen-Based Recognition of Handwritten Digits Data Set \n",
    "---\n",
    "\n",
    "[image01]: data_abstract.PNG\n",
    "\n",
    "![Data] [image01]"
   ]
  },
  {
   "cell_type": "markdown",
   "metadata": {},
   "source": [
    "## Import Dependencies"
   ]
  },
  {
   "cell_type": "code",
   "execution_count": 3,
   "metadata": {
    "collapsed": true
   },
   "outputs": [],
   "source": [
    "from sklearn.neighbors import KNeighborsClassifier\n",
    "import numpy as np"
   ]
  },
  {
   "cell_type": "markdown",
   "metadata": {},
   "source": [
    "## Load Data"
   ]
  },
  {
   "cell_type": "code",
   "execution_count": 4,
   "metadata": {
    "collapsed": true
   },
   "outputs": [],
   "source": [
    "def load_data(file):\n",
    "    return np.loadtxt(file)"
   ]
  },
  {
   "cell_type": "markdown",
   "metadata": {},
   "source": [
    "## Build the KNN Class"
   ]
  },
  {
   "cell_type": "code",
   "execution_count": 5,
   "metadata": {
    "collapsed": true
   },
   "outputs": [],
   "source": [
    "class KNN(object):\n",
    "    \n",
    "    def __init__(self, train_data, test_data, k):\n",
    "        self.train_data = train_data[:, :-1]\n",
    "        self.train_label = train_data[:, -1]\n",
    "        self.test_data = test_data[:, :-1]\n",
    "        self.test_label = test_data[:, -1]\n",
    "        self.k = k\n",
    "        self.correct = 0\n",
    "        self.model = None\n",
    "        self.predictions = None\n",
    "        self.acc = 0\n",
    "        \n",
    "    def normalize(self):\n",
    "        mean = np.mean(self.train_data, axis=0)\n",
    "        std_dev = np.std(self.train_data, axis=0)\n",
    "        \n",
    "        for i in range(0, self.train_data.shape[1]):\n",
    "            self.train_data[:, i] = self.train_data[:, i] - mean[i]\n",
    "            self.train_data[:, i] = self.train_data[:, i] / std_dev[i]\n",
    "            self.test_data[:, i] = self.test_data[:, i] - mean[i]\n",
    "            self.test_data[:, i] = self.test_data[:, i] / std_dev[i]\n",
    "        \n",
    "    def train(self):\n",
    "        self.model = KNeighborsClassifier(n_neighbors = self.k)\n",
    "        self.model.fit(self.train_data, self.train_label)\n",
    "        \n",
    "    def classify(self):\n",
    "        self.predictions = self.model.predict(self.test_data)\n",
    "        self.acc = self.model.score(self.test_data, self.test_label)\n",
    "        \n",
    "    def show_acc(self):\n",
    "        print(\"when k =\", self.k, \"accuracy is\", self.acc)"
   ]
  },
  {
   "cell_type": "markdown",
   "metadata": {},
   "source": [
    "## Maine Function calls"
   ]
  },
  {
   "cell_type": "code",
   "execution_count": 6,
   "metadata": {
    "collapsed": true
   },
   "outputs": [],
   "source": [
    "k_value = 1\n",
    "train_file = \"pendigits_training.txt\"\n",
    "test_file = \"pendigits_test.txt\"\n",
    "train = load_data(train_file)\n",
    "test = load_data(test_file)"
   ]
  },
  {
   "cell_type": "code",
   "execution_count": 7,
   "metadata": {},
   "outputs": [],
   "source": [
    "knn = KNN(train, test, k_value)\n",
    "knn.normalize()\n",
    "knn.train()\n",
    "# knn.classify()\n",
    "# knn.show_acc()\n",
    "\n"
   ]
  },
  {
   "cell_type": "code",
   "execution_count": null,
   "metadata": {
    "collapsed": true
   },
   "outputs": [],
   "source": []
  },
  {
   "cell_type": "markdown",
   "metadata": {},
   "source": []
  },
  {
   "cell_type": "markdown",
   "metadata": {},
   "source": [
    "## Data - Pendigits.txt  16 Dimensional Data \n",
    "-----------------\n",
    "\n",
    "[image01]: data.PNG\n",
    "\n",
    "![Data] [image01]\n"
   ]
  },
  {
   "cell_type": "markdown",
   "metadata": {},
   "source": [
    "## Perform TSNE for visualization"
   ]
  },
  {
   "cell_type": "code",
   "execution_count": 2,
   "metadata": {},
   "outputs": [],
   "source": [
    "from sklearn.preprocessing import LabelEncoder\n",
    "from sklearn.preprocessing import StandardScaler\n",
    "from sklearn.manifold import TSNE\n",
    "import matplotlib.pyplot as plt"
   ]
  },
  {
   "cell_type": "code",
   "execution_count": 8,
   "metadata": {
    "collapsed": true
   },
   "outputs": [],
   "source": [
    "x = knn.train_data\n",
    "y = knn.train_label"
   ]
  },
  {
   "cell_type": "code",
   "execution_count": 9,
   "metadata": {
    "collapsed": true
   },
   "outputs": [],
   "source": [
    "standard = StandardScaler()\n",
    "x_std = standard.fit_transform(x)"
   ]
  },
  {
   "cell_type": "code",
   "execution_count": 10,
   "metadata": {
    "collapsed": true
   },
   "outputs": [],
   "source": [
    "tsne = TSNE(n_components = 2, random_state = 0)"
   ]
  },
  {
   "cell_type": "code",
   "execution_count": 11,
   "metadata": {
    "collapsed": true
   },
   "outputs": [],
   "source": [
    "x_test_2d = tsne.fit_transform(x_std)"
   ]
  },
  {
   "cell_type": "code",
   "execution_count": 12,
   "metadata": {
    "collapsed": true
   },
   "outputs": [],
   "source": [
    "label_encoder = LabelEncoder()\n",
    "y = label_encoder.fit_transform(y)"
   ]
  },
  {
   "cell_type": "code",
   "execution_count": 13,
   "metadata": {},
   "outputs": [],
   "source": [
    "markers = (\"s\", \"d\", \"o\", \"^\", \"v\", \"8\", \"p\", \"_\", \"2\", \"s\")"
   ]
  },
  {
   "cell_type": "code",
   "execution_count": 14,
   "metadata": {
    "collapsed": true
   },
   "outputs": [],
   "source": [
    "color_map = { 0:\"red\", 1:\"blue\", 2:\"lightgreen\", 3:\"purple\", 4:\"cyan\", 5:\"black\", 6:\"yellow\", 7:\"magenta\", \n",
    "             8:\"plum\", 9:\"yellowgreen\"  }"
   ]
  },
  {
   "cell_type": "code",
   "execution_count": 17,
   "metadata": {
    "collapsed": true
   },
   "outputs": [],
   "source": [
    "plt.figure()\n",
    "\n",
    "for idx, cl in enumerate(np.unique(y)):\n",
    "    plt.scatter(x = x_test_2d[ y == cl, 0], y = x_test_2d[ y == cl, 1], c = color_map[idx], marker = markers[idx])"
   ]
  },
  {
   "cell_type": "code",
   "execution_count": 18,
   "metadata": {},
   "outputs": [
    {
     "data": {
      "image/png": "[encoded data removed]",
      "text/plain": [
       "<matplotlib.figure.Figure at 0x1f84a741fd0>"
      ]
     },
     "metadata": {},
     "output_type": "display_data"
    }
   ],
   "source": [
    "\n",
    "plt.xlabel(\"X in TSNE\")\n",
    "plt.ylabel(\"Y in TSNE\")\n",
    "plt.title(\"tsne Visualization\")\n",
    "plt.legend(loc = \"upper left\")\n",
    "plt.show()"
   ]
  },
  {
   "cell_type": "markdown",
   "metadata": {},
   "source": [
    "TSNE Results \n",
    "----------------------\n",
    "\n",
    "[image01]: tsne.PNG\n",
    "\n",
    "![Data] [image01]\n"
   ]
  },
  {
   "cell_type": "code",
   "execution_count": null,
   "metadata": {
    "collapsed": true
   },
   "outputs": [],
   "source": []
  }
 ],
 "metadata": {
  "kernelspec": {
   "display_name": "Python 3",
   "language": "python",
   "name": "python3"
  },
  "language_info": {
   "codemirror_mode": {
    "name": "ipython",
    "version": 3
   },
   "file_extension": ".py",
   "mimetype": "text/x-python",
   "name": "python",
   "nbconvert_exporter": "python",
   "pygments_lexer": "ipython3",
   "version": "3.6.3"
  }
 },
 "nbformat": 4,
 "nbformat_minor": 2
}
